{
 "cells": [
  {
   "cell_type": "markdown",
   "id": "2bf64770",
   "metadata": {},
   "source": [
    "# WQD 7012 AML Mid Term Part 1\n",
    "\n",
    "## Student Details\n",
    "\n",
    "- Name: Khor Kean Teng\n",
    "- Matric No: U2004763\n",
    "- Tasks: Mid Term Examination\n",
    "\n",
    "## Instructions\n",
    "\n",
    "Work individually. Answer all the questions. Explain adequately how you get the answers that can include: 1) codes or process used; and 2) print screens and/or related files that can justify your outcome. Please create a word file in .docx (or in .ipynb) to explain your answer. Convert the file to pdf format and submit to the spectrum “Mid Term” submission page. "
   ]
  },
  {
   "cell_type": "code",
   "execution_count": null,
   "id": "236ed35d",
   "metadata": {},
   "outputs": [],
   "source": [
    "# import libraries\n",
    "import pandas as pd\n",
    "import warnings\n",
    "\n",
    "\n",
    "# turn off warnings\n",
    "warnings.filterwarnings(\"ignore\")"
   ]
  },
  {
   "cell_type": "markdown",
   "id": "e9995b4a",
   "metadata": {},
   "source": [
    "## Question 1"
   ]
  },
  {
   "cell_type": "code",
   "execution_count": null,
   "id": "2cac25e2",
   "metadata": {},
   "outputs": [],
   "source": []
  }
 ],
 "metadata": {
  "kernelspec": {
   "display_name": "Python 3",
   "language": "python",
   "name": "python3"
  },
  "language_info": {
   "name": "python",
   "version": "3.12.7"
  }
 },
 "nbformat": 4,
 "nbformat_minor": 5
}
